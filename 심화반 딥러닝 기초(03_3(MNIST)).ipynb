{
 "cells": [
  {
   "cell_type": "code",
   "execution_count": 2,
   "id": "2e4c3d0e",
   "metadata": {},
   "outputs": [],
   "source": [
    "import sys, os\n",
    "sys.path.append(os.pardir)\n",
    "import numpy as np\n",
    "import pickle\n",
    "#dataset 폴더의 mnist파일 안에 load_mnist 함수를 가져다 씀\n",
    "from dataset.mnist import load_mnist"
   ]
  },
  {
   "cell_type": "code",
   "execution_count": 12,
   "id": "70df3ca2",
   "metadata": {},
   "outputs": [],
   "source": [
    "def sigmoid(x):\n",
    "    return 1/(np.exp(-x))"
   ]
  },
  {
   "cell_type": "code",
   "execution_count": 13,
   "id": "230f1830",
   "metadata": {},
   "outputs": [],
   "source": [
    "def softmax(a):\n",
    "    c=np.max(a)\n",
    "    return np.exp(a-c)/np.sum(np.exp(a-c))"
   ]
  },
  {
   "cell_type": "code",
   "execution_count": 14,
   "id": "dbf2cf34",
   "metadata": {},
   "outputs": [],
   "source": [
    "def get_data():\n",
    "    #x:이미지, y or t:정답 0~9로 표현(one-hot-vector으로 표현한게 아님)\n",
    "    (x_train, y_train),(x_test, t_test)=load_mnist(normalize=True, flatten=True, one_hot_label=False)\n",
    "    return x_test, t_test"
   ]
  },
  {
   "cell_type": "code",
   "execution_count": 15,
   "id": "fcbdd9be",
   "metadata": {},
   "outputs": [],
   "source": [
    "def init_network():\n",
    "    with open(\"sample_weight.pkl\",\"rb\") as f:\n",
    "        network=pickle.load(f)\n",
    "    return network"
   ]
  },
  {
   "cell_type": "code",
   "execution_count": 16,
   "id": "d27f3110",
   "metadata": {},
   "outputs": [],
   "source": [
    "def predict(network, x):\n",
    "    W1, W2, W3 = network['W1'],network['W2'],network['W3']\n",
    "    b1, b2, b3 = network['b1'],network['b2'],network['b3']\n",
    "    \n",
    "    a1=np.dot(x,W1)+b1\n",
    "    z1=sigmoid(a1)\n",
    "    a2=np.dot(z1,W2)+b2\n",
    "    z2=sigmoid(a2)\n",
    "    a3=np.dot(z2,W3)+b3\n",
    "    y=softmax(a3)\n",
    "    \n",
    "    return y"
   ]
  },
  {
   "cell_type": "code",
   "execution_count": 17,
   "id": "bae428b2",
   "metadata": {},
   "outputs": [],
   "source": [
    "x, t = get_data()\n",
    "network=init_network()\n",
    "accuracy_cnt=0"
   ]
  },
  {
   "cell_type": "code",
   "execution_count": 18,
   "id": "3f04e588",
   "metadata": {},
   "outputs": [
    {
     "name": "stderr",
     "output_type": "stream",
     "text": [
      "<ipython-input-12-028640f01c6c>:2: RuntimeWarning: overflow encountered in exp\n",
      "  return 1/(np.exp(-x))\n",
      "<ipython-input-12-028640f01c6c>:2: RuntimeWarning: divide by zero encountered in true_divide\n",
      "  return 1/(np.exp(-x))\n",
      "<ipython-input-12-028640f01c6c>:2: RuntimeWarning: overflow encountered in true_divide\n",
      "  return 1/(np.exp(-x))\n",
      "<ipython-input-13-dac68281f829>:3: RuntimeWarning: overflow encountered in subtract\n",
      "  return np.exp(a-c)/np.sum(np.exp(a-c))\n",
      "<ipython-input-13-dac68281f829>:3: RuntimeWarning: invalid value encountered in subtract\n",
      "  return np.exp(a-c)/np.sum(np.exp(a-c))\n"
     ]
    }
   ],
   "source": [
    "for i in range(len(x)):\n",
    "    # y:one-hot-vector 의 softmax 추론 결과\n",
    "    # network:사전에 훈련시킨 네트워크의 가중치 값\n",
    "    # x[i]:i번째 test 이미지\n",
    "    y=predict(network, x[i])\n",
    "    #np.argmax:y의 softmax결과 중에서 확률이 가장 높은 원소의 인덱스를 출력\n",
    "    p=np.argmax(y)\n",
    "    if p==t[i]:\n",
    "        accuracy_cnt+=1"
   ]
  },
  {
   "cell_type": "code",
   "execution_count": 20,
   "id": "92f22b6a",
   "metadata": {},
   "outputs": [
    {
     "name": "stdout",
     "output_type": "stream",
     "text": [
      "Accuracy:0.1778\n"
     ]
    }
   ],
   "source": [
    "print(\"Accuracy:\"+str(float(accuracy_cnt)/len(x)))"
   ]
  },
  {
   "cell_type": "code",
   "execution_count": null,
   "id": "c88f2958",
   "metadata": {},
   "outputs": [],
   "source": []
  }
 ],
 "metadata": {
  "kernelspec": {
   "display_name": "Python 3",
   "language": "python",
   "name": "python3"
  },
  "language_info": {
   "codemirror_mode": {
    "name": "ipython",
    "version": 3
   },
   "file_extension": ".py",
   "mimetype": "text/x-python",
   "name": "python",
   "nbconvert_exporter": "python",
   "pygments_lexer": "ipython3",
   "version": "3.8.8"
  }
 },
 "nbformat": 4,
 "nbformat_minor": 5
}
