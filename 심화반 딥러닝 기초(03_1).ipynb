{
 "cells": [
  {
   "cell_type": "code",
   "execution_count": 1,
   "id": "e914c34e",
   "metadata": {},
   "outputs": [],
   "source": [
    "import numpy as np"
   ]
  },
  {
   "cell_type": "code",
   "execution_count": 2,
   "id": "bb3a29ae",
   "metadata": {},
   "outputs": [
    {
     "data": {
      "text/plain": [
       "array([[ 50],\n",
       "       [122]])"
      ]
     },
     "execution_count": 2,
     "metadata": {},
     "output_type": "execute_result"
    }
   ],
   "source": [
    "A=np.array([[1,2,3],[4,5,6]])\n",
    "B=np.array([[7],[8],[9]])\n",
    "C=np.dot(A,B)\n",
    "C"
   ]
  },
  {
   "cell_type": "code",
   "execution_count": 3,
   "id": "35a45a18",
   "metadata": {},
   "outputs": [
    {
     "data": {
      "text/plain": [
       "array([[ 23,  29],\n",
       "       [ 53,  67],\n",
       "       [ 83, 105]])"
      ]
     },
     "execution_count": 3,
     "metadata": {},
     "output_type": "execute_result"
    }
   ],
   "source": [
    "X=np.array([[1,2],[3,4],[5,6]])\n",
    "Y=np.array([[7,9],[8,10]])\n",
    "Z=np.dot(X,Y)\n",
    "Z"
   ]
  },
  {
   "cell_type": "code",
   "execution_count": 4,
   "id": "13a3966d",
   "metadata": {},
   "outputs": [],
   "source": [
    "X=np.array([2.0, 3.0])\n",
    "W=np.array([[0.1, 0.2, 0.1],[0.2, 0.1, 0.2]])\n",
    "B=np.array([0.1, 0.2, 0.2])\n",
    "A=np.dot(X,W)+B"
   ]
  },
  {
   "cell_type": "code",
   "execution_count": 5,
   "id": "a162a2df",
   "metadata": {},
   "outputs": [
    {
     "data": {
      "text/plain": [
       "array([0.9, 0.9, 1. ])"
      ]
     },
     "execution_count": 5,
     "metadata": {},
     "output_type": "execute_result"
    }
   ],
   "source": [
    "A"
   ]
  },
  {
   "cell_type": "code",
   "execution_count": 6,
   "id": "740a8c91",
   "metadata": {},
   "outputs": [],
   "source": [
    "def sigmoid(x):\n",
    "    return 1/(np.exp(-x))"
   ]
  },
  {
   "cell_type": "code",
   "execution_count": 7,
   "id": "4fe145de",
   "metadata": {},
   "outputs": [],
   "source": [
    "Z=sigmoid(A)"
   ]
  },
  {
   "cell_type": "code",
   "execution_count": 8,
   "id": "4cc92b92",
   "metadata": {},
   "outputs": [
    {
     "name": "stdout",
     "output_type": "stream",
     "text": [
      "[2.45960311 2.45960311 2.71828183]\n"
     ]
    }
   ],
   "source": [
    "print(Z)"
   ]
  },
  {
   "cell_type": "code",
   "execution_count": 9,
   "id": "6db5fb13",
   "metadata": {},
   "outputs": [],
   "source": [
    "W2=np.array([[0.1, 0.2],[0.1, 0.5],[0.3, 0.2]])\n",
    "B2=np.array([0.2, 0.1])\n",
    "A2=np.dot(Z,W2)+B2\n",
    "Z2=sigmoid(A2)"
   ]
  },
  {
   "cell_type": "code",
   "execution_count": 10,
   "id": "7d76f131",
   "metadata": {},
   "outputs": [
    {
     "name": "stdout",
     "output_type": "stream",
     "text": [
      "[1.50740517 2.36537854]\n",
      "[ 4.51499993 10.64806881]\n"
     ]
    }
   ],
   "source": [
    "print(A2)\n",
    "print(Z2)"
   ]
  },
  {
   "cell_type": "code",
   "execution_count": 12,
   "id": "f62b07b1",
   "metadata": {},
   "outputs": [],
   "source": [
    "W3=np.array([[0.1, 0.5],[0.3, 0.2]])\n",
    "B3=np.array([0.3, 0.1])\n",
    "A3=np.dot(Z2,W3)+B3"
   ]
  },
  {
   "cell_type": "code",
   "execution_count": 13,
   "id": "58b8b1ea",
   "metadata": {},
   "outputs": [],
   "source": [
    "def relu(x):\n",
    "    return np.maximum(0,x)"
   ]
  },
  {
   "cell_type": "code",
   "execution_count": 14,
   "id": "7f75874e",
   "metadata": {},
   "outputs": [],
   "source": [
    "Y=relu(A3)"
   ]
  },
  {
   "cell_type": "code",
   "execution_count": 15,
   "id": "dd3f7dbf",
   "metadata": {},
   "outputs": [
    {
     "name": "stdout",
     "output_type": "stream",
     "text": [
      "[3.94592064 4.48711373]\n",
      "[3.94592064 4.48711373]\n"
     ]
    }
   ],
   "source": [
    "print(A3)\n",
    "print(Y)"
   ]
  },
  {
   "cell_type": "code",
   "execution_count": null,
   "id": "afc174e2",
   "metadata": {},
   "outputs": [],
   "source": []
  }
 ],
 "metadata": {
  "kernelspec": {
   "display_name": "Python 3",
   "language": "python",
   "name": "python3"
  },
  "language_info": {
   "codemirror_mode": {
    "name": "ipython",
    "version": 3
   },
   "file_extension": ".py",
   "mimetype": "text/x-python",
   "name": "python",
   "nbconvert_exporter": "python",
   "pygments_lexer": "ipython3",
   "version": "3.8.8"
  }
 },
 "nbformat": 4,
 "nbformat_minor": 5
}
