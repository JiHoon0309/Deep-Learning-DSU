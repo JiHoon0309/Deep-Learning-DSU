{
 "cells": [
  {
   "cell_type": "code",
   "execution_count": 1,
   "id": "b0c79f5f",
   "metadata": {},
   "outputs": [],
   "source": [
    "import numpy as np"
   ]
  },
  {
   "cell_type": "code",
   "execution_count": 2,
   "id": "b5e65955",
   "metadata": {},
   "outputs": [],
   "source": [
    "def sigmoid(x):\n",
    "    return 1/(np.exp(-x))"
   ]
  },
  {
   "cell_type": "code",
   "execution_count": 3,
   "id": "2d39ee20",
   "metadata": {},
   "outputs": [],
   "source": [
    "def softmax(a):\n",
    "    return (np.exp(a))/(np.sum(np.exp(a)))"
   ]
  },
  {
   "cell_type": "code",
   "execution_count": 4,
   "id": "3169bc2a",
   "metadata": {},
   "outputs": [],
   "source": [
    "def init_network():\n",
    "    network={}\n",
    "    network['W1']=np.array([[0.2, 0.2, 0.2, 0.2, 0.2],\n",
    "                            [0.2, 0.2, 0.2, 0.2, 0.2],\n",
    "                            [0.2, 0.2, 0.2, 0.2, 0.2]])\n",
    "    network['b1']=np.array([0, 0, 0, 0, 0])\n",
    "    network['W2']=np.array([[0.3, 0.3, 0.3, 0.3, 0.3],\n",
    "                            [0.3, 0.3, 0.3, 0.3, 0.3],\n",
    "                            [0.3, 0.3, 0.3, 0.3, 0.3],\n",
    "                            [0.3, 0.3, 0.3, 0.3, 0.3],\n",
    "                            [0.3, 0.3, 0.3, 0.3, 0.3]])\n",
    "    network['b2']=np.array([0, 0, 0, 0, 0])\n",
    "    network['W3']=np.array([[0.4, 0.4, 0.4],\n",
    "                            [0.4, 0.4, 0.4],\n",
    "                            [0.4, 0.4, 0.4],\n",
    "                            [0.4, 0.4, 0.4],\n",
    "                            [0.4, 0.4, 0.4]])\n",
    "    network['b3']=np.array([0, 0, 0])\n",
    "    return network"
   ]
  },
  {
   "cell_type": "code",
   "execution_count": 5,
   "id": "e3927e85",
   "metadata": {},
   "outputs": [],
   "source": [
    "def forward(network, x):\n",
    "    W1, W2, W3=network['W1'], network['W2'], network['W3']\n",
    "    b1 ,b2, b3=network['b1'], network['b2'], network['b3']\n",
    "    \n",
    "    a1=np.dot(x,W1)+b1\n",
    "    z1=sigmoid(a1)\n",
    "    a2=np.dot(z1,W2)+b2\n",
    "    z2=sigmoid(a2)\n",
    "    a3=np.dot(z2,W3)+b3\n",
    "    y=softmax(a3)\n",
    "    \n",
    "    return y"
   ]
  },
  {
   "cell_type": "code",
   "execution_count": 6,
   "id": "48a3bb42",
   "metadata": {},
   "outputs": [
    {
     "name": "stdout",
     "output_type": "stream",
     "text": [
      "[0.33333333 0.33333333 0.33333333]\n"
     ]
    }
   ],
   "source": [
    "network=init_network()\n",
    "x=np.array([0.1, 0.1, 0.1])\n",
    "y=forward(network, x)\n",
    "print(y)"
   ]
  },
  {
   "cell_type": "code",
   "execution_count": null,
   "id": "ae589794",
   "metadata": {},
   "outputs": [],
   "source": []
  }
 ],
 "metadata": {
  "kernelspec": {
   "display_name": "Python 3",
   "language": "python",
   "name": "python3"
  },
  "language_info": {
   "codemirror_mode": {
    "name": "ipython",
    "version": 3
   },
   "file_extension": ".py",
   "mimetype": "text/x-python",
   "name": "python",
   "nbconvert_exporter": "python",
   "pygments_lexer": "ipython3",
   "version": "3.8.8"
  }
 },
 "nbformat": 4,
 "nbformat_minor": 5
}
