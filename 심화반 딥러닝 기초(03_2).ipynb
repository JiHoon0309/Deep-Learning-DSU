{
 "cells": [
  {
   "cell_type": "code",
   "execution_count": 1,
   "id": "c8f7940e",
   "metadata": {},
   "outputs": [],
   "source": [
    "import numpy as np"
   ]
  },
  {
   "cell_type": "code",
   "execution_count": 2,
   "id": "480eca83",
   "metadata": {},
   "outputs": [],
   "source": [
    "def sigmoid(x):\n",
    "    return 1/(np.exp(-x))"
   ]
  },
  {
   "cell_type": "code",
   "execution_count": 3,
   "id": "1874107a",
   "metadata": {},
   "outputs": [],
   "source": [
    "def relu(x):\n",
    "    return np.maximum(0,x)"
   ]
  },
  {
   "cell_type": "code",
   "execution_count": 4,
   "id": "8b0e5012",
   "metadata": {},
   "outputs": [],
   "source": [
    "def init_network():\n",
    "    network={}\n",
    "    network['W1']=np.array([[0.1, 0.2, 0.1],[0.2, 0.1, 0.2]])\n",
    "    network['b1']=np.array([0.1, 0.2, 0.3])\n",
    "    network['W2']=np.array([[0.1, 0.5],[0.3, 0.2],[0.2, 0.4]])\n",
    "    network['b2']=np.array([0.3, 0.4])\n",
    "    network['W3']=np.array([[0.3, 0.1],[0.2, 0.1]])\n",
    "    network['b3']=np.array([0.2, 0.1])\n",
    "    \n",
    "    return network"
   ]
  },
  {
   "cell_type": "code",
   "execution_count": 5,
   "id": "b8c51b92",
   "metadata": {},
   "outputs": [],
   "source": [
    "def forward(network, x):\n",
    "    W1,W2,W3=network['W1'], network['W2'], network['W3']\n",
    "    b1,b2,b3=network['b1'], network['b2'], network['b3']\n",
    "    \n",
    "    a1=np.dot(x, W1)+b1\n",
    "    z1=sigmoid(a1)\n",
    "    a2=np.dot(z1, W2)+b2\n",
    "    z2=sigmoid(a2)\n",
    "    a3=np.dot(z2, W3)+b3\n",
    "    y=relu(a3)\n",
    "    \n",
    "    return y"
   ]
  },
  {
   "cell_type": "code",
   "execution_count": 6,
   "id": "d833ac3e",
   "metadata": {},
   "outputs": [
    {
     "name": "stdout",
     "output_type": "stream",
     "text": [
      "[26.00580582 12.3943294 ]\n"
     ]
    }
   ],
   "source": [
    "network=init_network()\n",
    "x=np.array([2.0, 5.1])\n",
    "y=forward(network, x)\n",
    "print(y)"
   ]
  },
  {
   "cell_type": "code",
   "execution_count": null,
   "id": "33261544",
   "metadata": {},
   "outputs": [],
   "source": []
  }
 ],
 "metadata": {
  "kernelspec": {
   "display_name": "Python 3",
   "language": "python",
   "name": "python3"
  },
  "language_info": {
   "codemirror_mode": {
    "name": "ipython",
    "version": 3
   },
   "file_extension": ".py",
   "mimetype": "text/x-python",
   "name": "python",
   "nbconvert_exporter": "python",
   "pygments_lexer": "ipython3",
   "version": "3.8.8"
  }
 },
 "nbformat": 4,
 "nbformat_minor": 5
}
